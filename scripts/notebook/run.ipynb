{
 "cells": [
  {
   "cell_type": "code",
   "execution_count": 1,
   "metadata": {},
   "outputs": [
    {
     "name": "stdout",
     "output_type": "stream",
     "text": [
      "text/x-python\n"
     ]
    }
   ],
   "source": [
    "import os.path\n",
    "from foxylib.tools.file.file_tool import FileTool\n",
    "from functools import reduce\n",
    "from magic import from_file\n",
    "\n",
    "FILE_DIR = os.path.abspath('')\n",
    "REPO_DIR = reduce(lambda x,f:f(x), [os.path.dirname]*2, FILE_DIR)\n",
    "\n",
    "filepath = os.path.join(REPO_DIR, \"foxylib\",\"tools\",\"file\",\"file_tool.py\")\n",
    "hyp = from_file(filepath, mime=True)\n",
    "\n",
    "print(hyp)"
   ]
  },
  {
   "cell_type": "code",
   "execution_count": null,
   "metadata": {},
   "outputs": [],
   "source": []
  }
 ],
 "metadata": {
  "kernelspec": {
   "display_name": "Python 3",
   "language": "python",
   "name": "python3"
  },
  "language_info": {
   "codemirror_mode": {
    "name": "ipython",
    "version": 3
   },
   "file_extension": ".py",
   "mimetype": "text/x-python",
   "name": "python",
   "nbconvert_exporter": "python",
   "pygments_lexer": "ipython3",
   "version": "3.7.5"
  }
 },
 "nbformat": 4,
 "nbformat_minor": 1
}
